{
 "cells": [
  {
   "cell_type": "code",
   "execution_count": 1,
   "metadata": {},
   "outputs": [],
   "source": [
    "import numpy as np"
   ]
  },
  {
   "cell_type": "code",
   "execution_count": 120,
   "metadata": {},
   "outputs": [],
   "source": [
    "px = np.array([1/4, 1/4, 1/4, 1/4], dtype=np.float32)\n",
    "pz = np.array([1/2, 1/2], dtype=np.float32)\n",
    "py_x = np.array([\n",
    "    [0.9, 0.1],\n",
    "    [0.9, 0.1],\n",
    "    [0.1, 0.9],\n",
    "    [0.1, 0.9]\n",
    "], dtype=np.float32)"
   ]
  },
  {
   "cell_type": "code",
   "execution_count": 121,
   "metadata": {},
   "outputs": [],
   "source": [
    "def bottleneck(pz_x, py_z, beta=1.0):\n",
    "    \n",
    "    pxz = px[:, np.newaxis] * pz_x\n",
    "    \n",
    "    outer = px[:, np.newaxis] * pz[np.newaxis, :]\n",
    "    \n",
    "    mi = pxz * np.log(pxz / outer)\n",
    "    mi = np.sum(mi)\n",
    "        \n",
    "    kl = py_x[:, np.newaxis, :] * np.log(py_z[np.newaxis, :, :] / py_x[:, np.newaxis, :])\n",
    "    kl = np.sum(kl, axis=2)\n",
    "    kl = kl * pxz\n",
    "    kl = np.sum(kl)\n",
    "    kl = - beta * kl\n",
    "    \n",
    "    return mi, kl"
   ]
  },
  {
   "cell_type": "code",
   "execution_count": 134,
   "metadata": {},
   "outputs": [
    {
     "name": "stdout",
     "output_type": "stream",
     "text": [
      "10.194708579433948\n",
      "[[0.00775231 0.99224769]\n",
      " [0.02227872 0.97772128]\n",
      " [0.90212296 0.09787704]\n",
      " [0.95360247 0.04639753]]\n",
      "[[0.22434759 0.77565241]\n",
      " [0.90247304 0.09752696]]\n"
     ]
    }
   ],
   "source": [
    "best_loss = None\n",
    "best_pz_x = None\n",
    "best_py_z = None\n",
    "\n",
    "for i in range(10000):\n",
    "\n",
    "    pz_x = np.random.dirichlet(np.ones(pz.shape[0]), size=(px.shape[0]))\n",
    "\n",
    "    py_z = np.random.dirichlet(np.ones(py_x.shape[1]), size=(pz.shape[0]))\n",
    "\n",
    "    \n",
    "    mi, kl = bottleneck(pz_x, py_z, beta=100.0)\n",
    "\n",
    "    loss = mi + kl\n",
    "\n",
    "    if not np.any(np.isnan(loss)) and np.all(np.isfinite(loss)):\n",
    "        \n",
    "        if best_loss is None or loss < best_loss:\n",
    "            best_loss = loss\n",
    "            best_pz_x = pz_x\n",
    "            best_py_z = py_z\n",
    "            \n",
    "print(best_loss)\n",
    "print(best_pz_x)\n",
    "print(best_py_z)"
   ]
  }
 ],
 "metadata": {
  "kernelspec": {
   "display_name": "Python 3",
   "language": "python",
   "name": "python3"
  },
  "language_info": {
   "codemirror_mode": {
    "name": "ipython",
    "version": 3
   },
   "file_extension": ".py",
   "mimetype": "text/x-python",
   "name": "python",
   "nbconvert_exporter": "python",
   "pygments_lexer": "ipython3",
   "version": "3.6.7"
  }
 },
 "nbformat": 4,
 "nbformat_minor": 2
}
